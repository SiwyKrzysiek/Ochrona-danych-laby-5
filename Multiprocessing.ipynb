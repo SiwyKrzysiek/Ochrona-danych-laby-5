{
 "cells": [
  {
   "cell_type": "markdown",
   "metadata": {
    "ExecuteTime": {
     "end_time": "2019-10-27T11:31:16.437808Z",
     "start_time": "2019-10-27T11:31:16.435448Z"
    }
   },
   "source": [
    "# Laboratorium 5 - Szyfrowanie równolegle"
   ]
  },
  {
   "cell_type": "markdown",
   "metadata": {},
   "source": [
    "Przygotowanie bibiotek"
   ]
  },
  {
   "cell_type": "code",
   "execution_count": 13,
   "metadata": {
    "ExecuteTime": {
     "end_time": "2019-10-31T10:35:51.556616Z",
     "start_time": "2019-10-31T10:35:51.552630Z"
    }
   },
   "outputs": [],
   "source": [
    "from multiprocessing import Process, Lock, Pool, RawArray\n",
    "import time\n",
    "import random\n",
    "import os\n",
    "import ctypes\n",
    "from itertools import islice\n",
    "\n",
    "from Crypto.Cipher import DES\n",
    "from Crypto.Cipher import AES\n",
    "from Crypto.Random import get_random_bytes\n",
    "\n",
    "from typing import Iterable, Tuple, Any"
   ]
  },
  {
   "cell_type": "markdown",
   "metadata": {},
   "source": [
    "Przydatne funkcje"
   ]
  },
  {
   "cell_type": "code",
   "execution_count": 2,
   "metadata": {
    "ExecuteTime": {
     "end_time": "2019-10-29T22:01:31.565309Z",
     "start_time": "2019-10-29T22:01:31.562757Z"
    }
   },
   "outputs": [],
   "source": [
    "def xor_bytearrays(a : bytearray, b : bytearray) -> bytearray:\n",
    "    n = len(a)\n",
    "    assert(len(b) == n)\n",
    "    \n",
    "    return bytearray(a[i] ^ b[i] for i in range(n))"
   ]
  },
  {
   "cell_type": "code",
   "execution_count": 3,
   "metadata": {
    "ExecuteTime": {
     "end_time": "2019-10-29T22:01:31.573719Z",
     "start_time": "2019-10-29T22:01:31.567144Z"
    }
   },
   "outputs": [
    {
     "data": {
      "text/plain": [
       "bytearray(b'\\x01\\x00\\x01')"
      ]
     },
     "execution_count": 3,
     "metadata": {},
     "output_type": "execute_result"
    }
   ],
   "source": [
    "a = bytearray([1, 2, 255])\n",
    "b = bytearray([0, 2, 254])\n",
    "\n",
    "xor_bytearrays(a, b)"
   ]
  },
  {
   "cell_type": "code",
   "execution_count": 4,
   "metadata": {
    "ExecuteTime": {
     "end_time": "2019-10-29T22:01:31.578055Z",
     "start_time": "2019-10-29T22:01:31.575380Z"
    }
   },
   "outputs": [],
   "source": [
    "def chunk(it : Iterable[Any], size : int) -> Iterable[Tuple[Any]]:\n",
    "    it = iter(it)\n",
    "    return iter(lambda: tuple(islice(it, size)), ())"
   ]
  },
  {
   "cell_type": "code",
   "execution_count": 5,
   "metadata": {
    "ExecuteTime": {
     "end_time": "2019-10-29T22:01:31.582759Z",
     "start_time": "2019-10-29T22:01:31.579596Z"
    }
   },
   "outputs": [
    {
     "data": {
      "text/plain": [
       "[(0, 1, 2), (3, 4, 5), (6, 7, 8), (9,)]"
      ]
     },
     "execution_count": 5,
     "metadata": {},
     "output_type": "execute_result"
    }
   ],
   "source": [
    "list(chunk(range(10), 3))"
   ]
  },
  {
   "cell_type": "markdown",
   "metadata": {
    "ExecuteTime": {
     "end_time": "2019-10-27T11:30:47.069724Z",
     "start_time": "2019-10-27T11:30:47.067606Z"
    }
   },
   "source": [
    "## Testy biblioteki `multiprocessing`"
   ]
  },
  {
   "cell_type": "markdown",
   "metadata": {},
   "source": [
    "Wykożystanie blokady powstrzyma wątki przed pisanie w tym samym czasie."
   ]
  },
  {
   "cell_type": "code",
   "execution_count": 6,
   "metadata": {
    "ExecuteTime": {
     "end_time": "2019-10-29T22:01:31.625525Z",
     "start_time": "2019-10-29T22:01:31.584248Z"
    }
   },
   "outputs": [
    {
     "name": "stdout",
     "output_type": "stream",
     "text": [
      "hello world 6\n",
      "hello world 0\n",
      "hello world 3\n",
      "hello world 4\n",
      "hello world 1\n",
      "hello world 7\n",
      "hello world 9\n",
      "hello world 2\n",
      "hello world 5\n",
      "hello world 8\n"
     ]
    }
   ],
   "source": [
    "def f(l, i):\n",
    "    delay = 2 * random.random()\n",
    "    time.sleep(delay)\n",
    "    \n",
    "    l.acquire()\n",
    "    try:\n",
    "        print('hello world', i)\n",
    "    finally:\n",
    "        l.release()\n",
    "\n",
    "if __name__ == '__main__':\n",
    "    lock = Lock()\n",
    "\n",
    "    for num in range(10):\n",
    "        Process(target=f, args=(lock, num)).start()"
   ]
  },
  {
   "cell_type": "markdown",
   "metadata": {},
   "source": [
    "#### Równoległe potęgowanie"
   ]
  },
  {
   "cell_type": "code",
   "execution_count": 7,
   "metadata": {
    "ExecuteTime": {
     "end_time": "2019-10-29T22:01:31.661797Z",
     "start_time": "2019-10-29T22:01:31.629946Z"
    }
   },
   "outputs": [],
   "source": [
    "def f(x):\n",
    "    return x**200\n",
    "\n",
    "data = list(range(1000000))"
   ]
  },
  {
   "cell_type": "code",
   "execution_count": 38,
   "metadata": {
    "ExecuteTime": {
     "end_time": "2019-10-27T12:14:49.283051Z",
     "start_time": "2019-10-27T12:14:31.510117Z"
    },
    "deletable": false,
    "editable": false,
    "run_control": {
     "frozen": true
    }
   },
   "outputs": [
    {
     "name": "stdout",
     "output_type": "stream",
     "text": [
      "2.22 s ± 41.8 ms per loop (mean ± std. dev. of 7 runs, 1 loop each)\n"
     ]
    }
   ],
   "source": [
    "%%timeit\n",
    "with Pool(8) as p:\n",
    "    p.map(f, data)"
   ]
  },
  {
   "cell_type": "code",
   "execution_count": 41,
   "metadata": {
    "ExecuteTime": {
     "end_time": "2019-10-27T12:15:36.919274Z",
     "start_time": "2019-10-27T12:15:08.629193Z"
    },
    "deletable": false,
    "editable": false,
    "run_control": {
     "frozen": true
    }
   },
   "outputs": [
    {
     "name": "stdout",
     "output_type": "stream",
     "text": [
      "3.53 s ± 69.3 ms per loop (mean ± std. dev. of 7 runs, 1 loop each)\n"
     ]
    }
   ],
   "source": [
    "%%timeit\n",
    "\n",
    "# Teraz bez równoległości\n",
    "list(map(f, data))"
   ]
  },
  {
   "cell_type": "markdown",
   "metadata": {
    "ExecuteTime": {
     "end_time": "2019-10-27T11:42:54.487694Z",
     "start_time": "2019-10-27T11:42:54.485436Z"
    }
   },
   "source": [
    "#### Przykład procesu"
   ]
  },
  {
   "cell_type": "code",
   "execution_count": 8,
   "metadata": {
    "ExecuteTime": {
     "end_time": "2019-10-29T22:01:31.694958Z",
     "start_time": "2019-10-29T22:01:31.665716Z"
    }
   },
   "outputs": [
    {
     "name": "stdout",
     "output_type": "stream",
     "text": [
      "main line\n",
      "module name: __main__\n",
      "parent process: 80754\n",
      "process id: 80767\n",
      "\n",
      "function f\n",
      "module name: __main__\n",
      "parent process: 80767\n",
      "process id: 80782\n",
      "\n",
      "hello bob\n"
     ]
    }
   ],
   "source": [
    "def info(title):\n",
    "    print(title)\n",
    "    print('module name:', __name__)\n",
    "    print('parent process:', os.getppid())\n",
    "    print('process id:', os.getpid())\n",
    "    print()\n",
    "\n",
    "def f(name):\n",
    "    info('function f')\n",
    "    print('hello', name)\n",
    "\n",
    "if __name__ == '__main__':\n",
    "    info('main line')\n",
    "    p = Process(target=f, args=('bob',))\n",
    "    p.start()\n",
    "    p.join()"
   ]
  },
  {
   "cell_type": "markdown",
   "metadata": {
    "ExecuteTime": {
     "end_time": "2019-10-27T11:56:27.379971Z",
     "start_time": "2019-10-27T11:56:27.377784Z"
    }
   },
   "source": [
    "## Schematy działania "
   ]
  },
  {
   "cell_type": "markdown",
   "metadata": {},
   "source": [
    "### ECB - Electronic Cypher Block\n",
    "\n",
    "Niezależne szyfrowanie"
   ]
  },
  {
   "cell_type": "markdown",
   "metadata": {
    "ExecuteTime": {
     "end_time": "2019-10-27T11:57:40.012386Z",
     "start_time": "2019-10-27T11:57:39.895028Z"
    }
   },
   "source": [
    "![ECB](./img/ECB.png)"
   ]
  },
  {
   "cell_type": "markdown",
   "metadata": {
    "ExecuteTime": {
     "end_time": "2019-10-27T12:01:41.815044Z",
     "start_time": "2019-10-27T12:01:41.811689Z"
    },
    "heading_collapsed": true
   },
   "source": [
    "### CBC - Cypher Block Chain\n",
    "\n",
    "Kolejny blok zależy od poprzedniego"
   ]
  },
  {
   "cell_type": "markdown",
   "metadata": {
    "ExecuteTime": {
     "end_time": "2019-10-27T12:02:07.283668Z",
     "start_time": "2019-10-27T12:02:07.162419Z"
    },
    "hidden": true
   },
   "source": [
    "![CBC](./img/CBC.png)"
   ]
  },
  {
   "cell_type": "markdown",
   "metadata": {},
   "source": [
    "## Zadania"
   ]
  },
  {
   "cell_type": "markdown",
   "metadata": {
    "ExecuteTime": {
     "end_time": "2019-10-27T12:03:13.020056Z",
     "start_time": "2019-10-27T12:03:13.017665Z"
    }
   },
   "source": [
    "### 1. Równolełe szyfowanie EBC\n",
    "\n",
    "Wykorzystując przykłady napisz program implementujący równoległe szyfrowanie w trybie EBC algorytmem AES."
   ]
  },
  {
   "cell_type": "markdown",
   "metadata": {},
   "source": [
    "**Na laborce trzeba porównać prędkość równoległą z szeregową**"
   ]
  },
  {
   "cell_type": "code",
   "execution_count": 14,
   "metadata": {
    "ExecuteTime": {
     "end_time": "2019-10-31T10:36:56.144651Z",
     "start_time": "2019-10-31T10:36:56.139502Z"
    }
   },
   "outputs": [],
   "source": [
    "def encrypt_ECB_serial(key, plain_text):\n",
    "    vector = bytearray(plain_text, 'utf-8')\n",
    "    aes = AES.new(key)\n",
    "\n",
    "    for i in range(no_blocks):\n",
    "        # Select right block\n",
    "        offset = i*block_size\n",
    "        block = plain_text[offset:offset+block_size]\n",
    "\n",
    "        # Why this is done 1000 times?\n",
    "        for j in range(1000):\n",
    "            encrypted = aes.encrypt(block)\n",
    "            block = encrypted\n",
    "        vector[offset:offset+block_size] = bytearray(encrypted)\n",
    "    return bytes(vector)       \n",
    "\n",
    "def decrypt_ECB_serial(key, encrypted_block):\n",
    "    vector = bytearray(encrypted_block)\n",
    "    aes = AES.new(key)\n",
    "    for i in range(no_blocks):\n",
    "        offset = i*block_size\n",
    "        block = encrypted_block[offset:offset+block_size]\n",
    "        for j in range(1000):\n",
    "            decrypted = aes.decrypt(block)\n",
    "            block = decrypted\n",
    "        vector[offset:offset+block_size] = bytearray(decrypted)\n",
    "    return bytes(vector) "
   ]
  },
  {
   "cell_type": "code",
   "execution_count": 16,
   "metadata": {
    "ExecuteTime": {
     "end_time": "2019-10-31T10:37:08.260935Z",
     "start_time": "2019-10-31T10:37:08.257513Z"
    }
   },
   "outputs": [],
   "source": [
    "def EBC_encrypt_block(n : int) -> None:\n",
    "    \"\"\"Encrypts n-th block from input_data with AES and outpust to output_data\"\"\"\n",
    "    \n",
    "    block = bytes(input_data[n * block_size : (n+1) * block_size])\n",
    "    encypted = cyper.encrypt(block)\n",
    "    \n",
    "    output_data[n * block_size : (n+1) * block_size] = encypted"
   ]
  },
  {
   "cell_type": "code",
   "execution_count": 18,
   "metadata": {
    "ExecuteTime": {
     "end_time": "2019-10-31T10:37:09.803840Z",
     "start_time": "2019-10-31T10:37:09.800240Z"
    }
   },
   "outputs": [],
   "source": [
    "def EBC_decrypt_block(n : int) -> None:\n",
    "    \"\"\"Decrypts n-th block from input_data with AES and outpust to output_data\"\"\"\n",
    "    \n",
    "    block = bytes(input_data[n * block_size : (n+1) * block_size])\n",
    "    encypted = cyper.decrypt(block)\n",
    "    \n",
    "    output_data[n * block_size : (n+1) * block_size] = encypted"
   ]
  },
  {
   "cell_type": "markdown",
   "metadata": {},
   "source": [
    "#### Test szyfrowania równoległego"
   ]
  },
  {
   "cell_type": "code",
   "execution_count": 20,
   "metadata": {
    "ExecuteTime": {
     "end_time": "2019-10-31T10:38:26.603255Z",
     "start_time": "2019-10-31T10:38:26.310348Z"
    }
   },
   "outputs": [
    {
     "name": "stdout",
     "output_type": "stream",
     "text": [
      "Szyfrowanie zajęło   0.13341594 s\n",
      "Deszyfrowanie zajęło 0.14493990 s\n"
     ]
    },
    {
     "data": {
      "text/plain": [
       "'alamakotalamakotalamakotalamakotalamakotalamakotalamakotalamakotalamakotalamakotalamakotalamakotalam'"
      ]
     },
     "execution_count": 20,
     "metadata": {},
     "output_type": "execute_result"
    }
   ],
   "source": [
    "plain_text = \"alamakot\"*1000\n",
    "key = \"haslo123\" * 2\n",
    "\n",
    "cyper = AES.new(key)\n",
    "block_size = 16\n",
    "no_blocks = int(len(plain_text)/block_size)\n",
    "\n",
    "assert(len(plain_text) % block_size == 0)\n",
    "assert(len(key) in {16, 24, 32})\n",
    "\n",
    "input_data = RawArray(ctypes.c_uint8, bytearray(plain_text, 'utf-8'))\n",
    "output_data = RawArray(ctypes.c_uint8, len(plain_text))\n",
    "\n",
    "# Encryption\n",
    "start_time = time.time()\n",
    "with Pool(8) as pool:\n",
    "    pool.map(EBC_encrypt_block, range(no_blocks))\n",
    "    \n",
    "print(f'Szyfrowanie zajęło   {(time.time() - start_time):.8f} s')    \n",
    "\n",
    "encrypted = bytes(output_data)\n",
    "\n",
    "# Decryption\n",
    "input_data, output_data = output_data, input_data\n",
    "\n",
    "start_time = time.time()\n",
    "with Pool(8) as pool:\n",
    "    pool.map(EBC_decrypt_block, range(no_blocks))\n",
    "print(f'Deszyfrowanie zajęło {(time.time() - start_time):.8f} s')    \n",
    "    \n",
    "\n",
    "recovered = bytes(output_data)\n",
    "\n",
    "recovered.decode()[:100]"
   ]
  },
  {
   "cell_type": "markdown",
   "metadata": {
    "ExecuteTime": {
     "end_time": "2019-10-30T07:39:09.451004Z",
     "start_time": "2019-10-30T07:39:09.446617Z"
    }
   },
   "source": [
    "#### Porównanie prędkośći"
   ]
  },
  {
   "cell_type": "markdown",
   "metadata": {},
   "source": [
    "Przygotowanie"
   ]
  },
  {
   "cell_type": "code",
   "execution_count": 25,
   "metadata": {
    "ExecuteTime": {
     "end_time": "2019-10-30T07:51:11.146077Z",
     "start_time": "2019-10-30T07:51:11.102183Z"
    }
   },
   "outputs": [],
   "source": [
    "plain_text = \"alamakot\"*1000 * 10\n",
    "key = \"haslo123\" * 2\n",
    "\n",
    "cyper = AES.new(key)\n",
    "block_size = 16\n",
    "no_blocks = int(len(plain_text)/block_size)\n",
    "\n",
    "assert(len(plain_text) % block_size == 0)\n",
    "assert(len(key) in {16, 24, 32})\n",
    "\n",
    "input_data = RawArray(ctypes.c_ubyte, bytearray(plain_text, 'utf-8'))\n",
    "output_data = RawArray(ctypes.c_ubyte, bytearray([0] * len(plain_text)))"
   ]
  },
  {
   "cell_type": "markdown",
   "metadata": {},
   "source": [
    "Podejście szeregowe"
   ]
  },
  {
   "cell_type": "code",
   "execution_count": 26,
   "metadata": {
    "ExecuteTime": {
     "end_time": "2019-10-30T07:51:30.588248Z",
     "start_time": "2019-10-30T07:51:12.333611Z"
    }
   },
   "outputs": [
    {
     "name": "stdout",
     "output_type": "stream",
     "text": [
      "2.29 s ± 77.9 ms per loop (mean ± std. dev. of 7 runs, 1 loop each)\n"
     ]
    }
   ],
   "source": [
    "%%timeit\n",
    "\n",
    "encrypt_ECB_serial(key, plain_text)"
   ]
  },
  {
   "cell_type": "markdown",
   "metadata": {},
   "source": [
    "Podejście równoległe"
   ]
  },
  {
   "cell_type": "code",
   "execution_count": 27,
   "metadata": {
    "ExecuteTime": {
     "end_time": "2019-10-30T07:51:41.546316Z",
     "start_time": "2019-10-30T07:51:30.748691Z"
    }
   },
   "outputs": [
    {
     "name": "stdout",
     "output_type": "stream",
     "text": [
      "133 ms ± 715 µs per loop (mean ± std. dev. of 7 runs, 10 loops each)\n"
     ]
    }
   ],
   "source": [
    "%%timeit\n",
    "\n",
    "with Pool(4) as pool:\n",
    "    pool.map(EBC_encrypt_block, range(no_blocks))"
   ]
  },
  {
   "cell_type": "code",
   "execution_count": 12,
   "metadata": {
    "ExecuteTime": {
     "end_time": "2019-10-29T22:01:32.046700Z",
     "start_time": "2019-10-29T22:01:32.042305Z"
    }
   },
   "outputs": [
    {
     "data": {
      "text/plain": [
       "b'alamakotalamakot'"
      ]
     },
     "execution_count": 12,
     "metadata": {},
     "output_type": "execute_result"
    }
   ],
   "source": [
    "0.14340305\n",
    "\n",
    "tmp = plain_text[:block_size]\n",
    "\n",
    "e = cyper.encrypt(tmp)\n",
    "cyper.decrypt(e)"
   ]
  },
  {
   "cell_type": "markdown",
   "metadata": {
    "ExecuteTime": {
     "end_time": "2019-10-27T13:27:37.848535Z",
     "start_time": "2019-10-27T13:27:37.846398Z"
    }
   },
   "source": [
    "### 2. Napisz program odszyfrowujący równolegle w trybie CBC"
   ]
  },
  {
   "cell_type": "code",
   "execution_count": 13,
   "metadata": {
    "ExecuteTime": {
     "end_time": "2019-10-29T22:01:32.053275Z",
     "start_time": "2019-10-29T22:01:32.048414Z"
    }
   },
   "outputs": [],
   "source": [
    "def CBC_serial_encrypt(data : bytes, key : str, iv : bytes) -> bytes:\n",
    "    result = bytearray([0] * len(data))\n",
    "    block_size = 16\n",
    "    assert(len(data) % block_size == 0)\n",
    "    assert(len(key) == 16)\n",
    "    assert(len(iv) == 16)\n",
    "    \n",
    "    block_count = len(data) // block_size\n",
    "    cyper = AES.new(key)\n",
    "    \n",
    "    for i in range(block_count):\n",
    "        offset = i * block_size\n",
    "        block = data[offset: offset + block_size]\n",
    "        block = bytes(xor_bytearrays(block, iv))\n",
    "        \n",
    "        encrypted = cyper.encrypt(block)\n",
    "        \n",
    "        iv = encrypted\n",
    "        result[offset: offset + block_size] = encrypted\n",
    "    \n",
    "    return result"
   ]
  },
  {
   "cell_type": "code",
   "execution_count": 14,
   "metadata": {
    "ExecuteTime": {
     "end_time": "2019-10-29T22:01:32.059104Z",
     "start_time": "2019-10-29T22:01:32.054826Z"
    }
   },
   "outputs": [],
   "source": [
    "def CBC_decrypt_block(n : int) -> None:\n",
    "    \"\"\"Decrypts n-th block from input_data with AES and outpust to output_data. Also uses iv variable\"\"\"\n",
    "#     For the first value take iv else take cryptogram of previous block\n",
    "    vector = iv if n == 0 else bytes(input_data[(n-1) * block_size : n * block_size])\n",
    "    \n",
    "    block = bytes(input_data[n * block_size : (n + 1) * block_size])\n",
    "    \n",
    "    intermidiate = cyper.decrypt(block)\n",
    "    decrypted = bytes(xor_bytearrays(intermidiate, vector))\n",
    "    \n",
    "    output_data[n * block_size : (n + 1) * block_size] = decrypted\n",
    "    "
   ]
  },
  {
   "cell_type": "code",
   "execution_count": 15,
   "metadata": {
    "ExecuteTime": {
     "end_time": "2019-10-29T22:01:32.231412Z",
     "start_time": "2019-10-29T22:01:32.061173Z"
    }
   },
   "outputs": [
    {
     "name": "stdout",
     "output_type": "stream",
     "text": [
      "Deszyfrowanie zajęło 0.14254093 s\n"
     ]
    },
    {
     "data": {
      "text/plain": [
       "'alamakotalamakotalamakotalamakotalamakotalamakotalamakotalamakotalamakotalamakotalamakotalamakotalam'"
      ]
     },
     "execution_count": 15,
     "metadata": {},
     "output_type": "execute_result"
    }
   ],
   "source": [
    "plain_text = \"alamakot\"*1000\n",
    "key = \"haslo123\" * 2\n",
    "\n",
    "cyper = AES.new(key)\n",
    "iv = get_random_bytes(16)\n",
    "block_size = 16\n",
    "no_blocks = int(len(plain_text)/block_size)\n",
    "\n",
    "assert(len(plain_text) % block_size == 0)\n",
    "assert(len(key) == 16)\n",
    "\n",
    "encrypted = CBC_serial_encrypt(plain_text.encode(), key, iv)\n",
    "\n",
    "input_data = RawArray(ctypes.c_ubyte, encrypted)\n",
    "output_data = RawArray(ctypes.c_ubyte, bytearray([0] * len(encrypted)))\n",
    "\n",
    "start_time = time.time()\n",
    "with Pool(8) as pool:\n",
    "    pool.map(CBC_decrypt_block, range(no_blocks))\n",
    "    \n",
    "print(f'Deszyfrowanie zajęło {(time.time() - start_time):.8f} s') \n",
    "\n",
    "recovered = bytes(output_data)\n",
    "\n",
    "recovered.decode()[:100]"
   ]
  },
  {
   "cell_type": "markdown",
   "metadata": {
    "ExecuteTime": {
     "end_time": "2019-10-27T14:05:53.096663Z",
     "start_time": "2019-10-27T14:05:53.094099Z"
    }
   },
   "source": [
    "### Napisz program szyfrujący w trybie CTR przy wykorzystaniu algorytmu DES"
   ]
  },
  {
   "cell_type": "code",
   "execution_count": 81,
   "metadata": {
    "ExecuteTime": {
     "end_time": "2019-10-30T08:53:52.670609Z",
     "start_time": "2019-10-30T08:53:52.665192Z"
    }
   },
   "outputs": [],
   "source": [
    "def CTR_encrypt_block(n : int) -> None:\n",
    "    \"\"\"Encrypts n-th block from input_data with DES and outpust to output_data\"\"\"\n",
    "    \n",
    "    block = bytes(input_data[n * block_size : (n + 1) * block_size])\n",
    "    vector = nonce + n.to_bytes(4, byteorder='big')\n",
    "    \n",
    "    intermidiate = cyper.encrypt(vector)\n",
    "    encrypted = bytes(xor_bytearrays(intermidiate, block))\n",
    "    \n",
    "    output_data[n * block_size : (n + 1) * block_size] = encrypted\n",
    "    \n",
    "#     if (n == 0):\n",
    "#         print(\"Szyfrowanie bloku 0\")\n",
    "#         print(\"block:\")\n",
    "#         print(block)\n",
    "#         print(\"vector:\")\n",
    "#         print(vector)\n",
    "#         print(\"intermidiate\")\n",
    "#         print(intermidiate)\n",
    "#         print(\"encrypted\")\n",
    "#         print(encrypted)\n",
    "#         print(\"output\")\n",
    "#         print(output_data[n * block_size : (n + 1) * block_size])\n",
    "#         print()"
   ]
  },
  {
   "cell_type": "code",
   "execution_count": 82,
   "metadata": {
    "ExecuteTime": {
     "end_time": "2019-10-30T08:53:53.076818Z",
     "start_time": "2019-10-30T08:53:53.072498Z"
    }
   },
   "outputs": [],
   "source": [
    "def CTR_decrypt_block(n : int) -> None:\n",
    "    \"\"\"Decrypts n-th block from input_data with DES and outpust to output_data\"\"\"\n",
    "    \n",
    "    block = bytes(input_data[n * block_size : (n + 1) * block_size])\n",
    "    vector = nonce + n.to_bytes(4, byteorder='big')\n",
    "    \n",
    "    intermidiate = cyper.encrypt(vector)\n",
    "    decrypted = bytes(xor_bytearrays(intermidiate, block))\n",
    "    \n",
    "    output_data[n * block_size : (n + 1) * block_size] = decrypted\n",
    "    \n",
    "#     if (n == 0):\n",
    "#         print(\"Deszyfrowanie bloku 0\")\n",
    "#         print(\"block:\")\n",
    "#         print(block)\n",
    "#         print(\"vector:\")\n",
    "#         print(vector)\n",
    "#         print(\"intermidiate\")\n",
    "#         print(intermidiate)\n",
    "#         print(\"encrypted\")\n",
    "#         print(encrypted)\n",
    "#         print(\"output\")\n",
    "#         print(output_data[n * block_size : (n + 1) * block_size])\n",
    "#         print()"
   ]
  },
  {
   "cell_type": "code",
   "execution_count": 83,
   "metadata": {
    "ExecuteTime": {
     "end_time": "2019-10-30T08:53:53.909805Z",
     "start_time": "2019-10-30T08:53:53.644013Z"
    }
   },
   "outputs": [
    {
     "name": "stdout",
     "output_type": "stream",
     "text": [
      "Fragmen tekstu jawnego\n",
      "alamakotalamakotalamakotalamakotalamakotalamakotalamakotalamakotalamakotalamakotalamakotalamakotalam\n",
      "Fragmen kryptogramu\n",
      "b'R\\xbb\\x86\\x85\\xb6\\xb5\\xda\\xf06]\\xeay\\x83\\xfd\\x8d\\xc0\\xb3&\\x01\\x9cy7\\xc9^\\x17c\\x8b3\\xdc=q\\xccor1A\\x9b{0\\xb3\\x10\\x90:(\\x17R:{\\xfao\\xf8W\\x125\\xc3:F!R\\xe0\\xc4\\xa7\\xc1\\xeerb\\xe0\\x88kO,r\\xbc^\\x85pk\\x95\\xa2\\xe6C\\x8a\\xb8\\xe5Tu\\xf6\\xaf\\x81\\xef\\xe5G\\x0bo\\xe0\\xbf\\xc9m)\\x84'\n",
      "Fragmen odszyfrowanego tekstu\n",
      "b'alamakotalamakotalamakotalamakotalamakotalamakotalamakotalamakotalamakotalamakotalamakotalamakotalam'\n"
     ]
    }
   ],
   "source": [
    "plain_text = \"alamakot\" * 1000\n",
    "key = \"haslo123\"\n",
    "\n",
    "cyper = DES.new(key)\n",
    "nonce = get_random_bytes(4)\n",
    "block_size = 8\n",
    "no_blocks = int(len(plain_text)/block_size)\n",
    "\n",
    "assert(len(plain_text) % block_size == 0)\n",
    "assert(len(key) == 8)\n",
    "\n",
    "input_data = RawArray(ctypes.c_ubyte, bytearray(plain_text, 'utf-8'))\n",
    "output_data = RawArray(ctypes.c_ubyte, bytearray([0] * len(plain_text)))\n",
    "\n",
    "# Encryption\n",
    "\n",
    "# Encryption\n",
    "start_time = time.time()\n",
    "with Pool(4) as pool:\n",
    "    pool.map(CTR_encrypt_block, range(no_blocks))\n",
    "# print(f'Szyfrowanie zajęło   {(time.time() - start_time):.8f} s')  \n",
    "  \n",
    "encrypted = bytes(output_data)\n",
    "# print(encrypted[:100])\n",
    "\n",
    "input_data, output_data = output_data, input_data\n",
    "\n",
    "# Decryption\n",
    "start_time = time.time()\n",
    "with Pool(4) as pool:\n",
    "    pool.map(CTR_decrypt_block, range(no_blocks))\n",
    "# print(f'Deszyfrowanie zajęło   {(time.time() - start_time):.8f} s')  \n",
    "    \n",
    "recovered = bytes(output_data)\n",
    "\n",
    "print(\"Fragmen tekstu jawnego\")\n",
    "print(plain_text[:100])\n",
    "\n",
    "print(\"Fragmen kryptogramu\")\n",
    "print(encrypted[:100])\n",
    "\n",
    "print(\"Fragmen odszyfrowanego tekstu\")\n",
    "print(recovered[:100])\n",
    "\n",
    "# encrypted.decode()[:100]"
   ]
  },
  {
   "cell_type": "code",
   "execution_count": 69,
   "metadata": {
    "ExecuteTime": {
     "end_time": "2019-10-30T08:29:20.585470Z",
     "start_time": "2019-10-30T08:29:20.069064Z"
    }
   },
   "outputs": [
    {
     "name": "stdout",
     "output_type": "stream",
     "text": [
      "Requirement already satisfied: pycryptodomex in /usr/local/lib/python3.7/site-packages (3.9.0)\r\n"
     ]
    }
   ],
   "source": [
    "!pip3 install pycryptodomex"
   ]
  },
  {
   "cell_type": "markdown",
   "metadata": {
    "ExecuteTime": {
     "end_time": "2019-10-30T08:25:26.200528Z",
     "start_time": "2019-10-30T08:25:26.198514Z"
    }
   },
   "source": [
    "## Zadnie 3 Laborki"
   ]
  },
  {
   "cell_type": "markdown",
   "metadata": {},
   "source": [
    "Znajdź poprawną kombinację kluca i \"sdi\" (nonce) ze słownika w pliku dict.txt, który pozwoli na poprawne odszyfrowanie kryptogramu.  \n",
    "(dict['updatet']. Kryptogram zaszyfrowano w trypbie AES MODE_CCM analogicznie do _exampleCCM.py_\n",
    "\n",
    "TIP: wykorzystaj dict['tag']"
   ]
  },
  {
   "cell_type": "markdown",
   "metadata": {},
   "source": [
    "Przykład"
   ]
  },
  {
   "cell_type": "code",
   "execution_count": 68,
   "metadata": {
    "ExecuteTime": {
     "end_time": "2019-10-30T08:29:00.271260Z",
     "start_time": "2019-10-30T08:29:00.257250Z"
    }
   },
   "outputs": [
    {
     "ename": "ModuleNotFoundError",
     "evalue": "No module named 'Cryptodome'",
     "output_type": "error",
     "traceback": [
      "\u001b[0;31m---------------------------------------------------------------------------\u001b[0m",
      "\u001b[0;31mModuleNotFoundError\u001b[0m                       Traceback (most recent call last)",
      "\u001b[0;32m<ipython-input-68-fb499b2e5733>\u001b[0m in \u001b[0;36m<module>\u001b[0;34m\u001b[0m\n\u001b[1;32m      1\u001b[0m \u001b[0;31m#pip3 install pycryptodomex\u001b[0m\u001b[0;34m\u001b[0m\u001b[0;34m\u001b[0m\u001b[0;34m\u001b[0m\u001b[0m\n\u001b[1;32m      2\u001b[0m \u001b[0;34m\u001b[0m\u001b[0m\n\u001b[0;32m----> 3\u001b[0;31m \u001b[0;32mfrom\u001b[0m \u001b[0mCryptodome\u001b[0m\u001b[0;34m.\u001b[0m\u001b[0mCipher\u001b[0m \u001b[0;32mimport\u001b[0m \u001b[0mAES\u001b[0m\u001b[0;34m\u001b[0m\u001b[0;34m\u001b[0m\u001b[0m\n\u001b[0m\u001b[1;32m      4\u001b[0m \u001b[0;32mfrom\u001b[0m \u001b[0mCryptodome\u001b[0m\u001b[0;34m.\u001b[0m\u001b[0mRandom\u001b[0m \u001b[0;32mimport\u001b[0m \u001b[0mget_random_bytes\u001b[0m\u001b[0;34m\u001b[0m\u001b[0;34m\u001b[0m\u001b[0m\n\u001b[1;32m      5\u001b[0m \u001b[0;34m\u001b[0m\u001b[0m\n",
      "\u001b[0;31mModuleNotFoundError\u001b[0m: No module named 'Cryptodome'"
     ]
    }
   ],
   "source": [
    "#pip3 install pycryptodomex\n",
    "\n",
    "from Cryptodome.Cipher import AES\n",
    "from Cryptodome.Random import get_random_bytes\n",
    "\n",
    "\n",
    "def encrypt_CCM(data, key, nonce):\n",
    "\tcipher = AES.new(key, AES.MODE_CCM, nonce)\n",
    "\tciphertext = cipher.encrypt(data)\n",
    "\ttag = cipher.digest()\n",
    "\treturn ciphertext, tag\n",
    "\n",
    "def decrypt_CCM(ciphertext,key,nonce,tag):\n",
    "\tcipher = AES.new(key, AES.MODE_CCM, nonce)\n",
    "\n",
    "\tplaintext = cipher.decrypt(ciphertext)\n",
    "\n",
    "\ttry:\n",
    "\t\tcipher.verify(tag)\n",
    "\texcept ValueError:\n",
    "\t\treturn False\n",
    "\n",
    "\treturn plaintext\n",
    "\n",
    "\n",
    "message = b'\\xe1~\\x8a\\xd1\\x96\\x84\\xc38v\\xc7\\x8e\\x04\\x1f\\x12\\x96p#\\xaa\\x11t\\x17\\x9b\\x93(/\\x7fg\\xfa\\x9b.\\xdd\\xe3\\x02\\xef<\\xca\\xe7\\xac'\n",
    "\n",
    "key = get_random_bytes(16)\n",
    "nonce = get_random_bytes(11)\n",
    "ciphertext,tag = encrypt_CCM(message,key,nonce)\n",
    "\n",
    "\n",
    "corrupted_nonce = get_random_bytes(11)\n",
    "\n",
    "#odszyfrowanie z błędną \"solą\"\"\n",
    "decrypted = decrypt_CCM(ciphertext,key,corrupted_nonce,tag)\n",
    "\n",
    "#odszyfrowanie poprawne\n",
    "#decrypted = decrypt_CCM(ciphertext,key,nonce,tag)\n",
    "\n",
    "if decrypted: \n",
    "\tprint(\"Odszyfrowano! Twoja wiadomość:\")\n",
    "\tprint(decrypted)\n",
    "else:\n",
    "\tprint(\"Niepoprawne odszyfrowanie!\")\n",
    "\n"
   ]
  }
 ],
 "metadata": {
  "kernelspec": {
   "display_name": "Python 3",
   "language": "python",
   "name": "python3"
  },
  "language_info": {
   "codemirror_mode": {
    "name": "ipython",
    "version": 3
   },
   "file_extension": ".py",
   "mimetype": "text/x-python",
   "name": "python",
   "nbconvert_exporter": "python",
   "pygments_lexer": "ipython3",
   "version": "3.7.3"
  },
  "varInspector": {
   "cols": {
    "lenName": 16,
    "lenType": 16,
    "lenVar": 40
   },
   "kernels_config": {
    "python": {
     "delete_cmd_postfix": "",
     "delete_cmd_prefix": "del ",
     "library": "var_list.py",
     "varRefreshCmd": "print(var_dic_list())"
    },
    "r": {
     "delete_cmd_postfix": ") ",
     "delete_cmd_prefix": "rm(",
     "library": "var_list.r",
     "varRefreshCmd": "cat(var_dic_list()) "
    }
   },
   "types_to_exclude": [
    "module",
    "function",
    "builtin_function_or_method",
    "instance",
    "_Feature"
   ],
   "window_display": false
  }
 },
 "nbformat": 4,
 "nbformat_minor": 2
}
